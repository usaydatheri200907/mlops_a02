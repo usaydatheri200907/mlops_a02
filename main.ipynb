{
 "cells": [
  {
   "cell_type": "code",
   "execution_count": 21,
   "metadata": {},
   "outputs": [],
   "source": [
    "#Task 1\n",
    "\n",
    "import requests\n",
    "from bs4 import BeautifulSoup"
   ]
  },
  {
   "cell_type": "code",
   "execution_count": 22,
   "metadata": {},
   "outputs": [],
   "source": [
    "def extract_data(url):\n",
    "    response = requests.get(url)\n",
    "    soup = BeautifulSoup(response.text, 'html.parser')\n",
    "    \n",
    "    links = []\n",
    "    titles = []\n",
    "    descriptions = []\n",
    "    \n",
    "    # Extracting links\n",
    "    for link in soup.find_all('a'):\n",
    "        links.append(link.get('href'))\n",
    "    \n",
    "    # Extracting titles and descriptions\n",
    "    articles = soup.find_all('article')\n",
    "    for article in articles:\n",
    "        title_tag = article.find('h2')\n",
    "        description_tag = article.find('p')\n",
    "        \n",
    "        # Check if both title and description tags are found\n",
    "        if title_tag and description_tag:\n",
    "            title = title_tag.get_text()\n",
    "            description = description_tag.get_text()\n",
    "            titles.append(title)\n",
    "            descriptions.append(description)\n",
    "    \n",
    "    return links, titles, descriptions"
   ]
  },
  {
   "cell_type": "code",
   "execution_count": 23,
   "metadata": {},
   "outputs": [],
   "source": [
    "dawn_url = 'https://www.dawn.com/'\n",
    "bbc_url = 'https://www.bbc.com/'"
   ]
  },
  {
   "cell_type": "code",
   "execution_count": 24,
   "metadata": {},
   "outputs": [
    {
     "name": "stdout",
     "output_type": "stream",
     "text": [
      "Dawn Links: ['https://epaper.dawn.com', 'https://www.dawnnews.tv/watch-live', 'https://www.dawnnews.tv', 'https://images.dawn.com', 'https://herald.dawn.com', 'https://aurora.dawn.com', 'https://cityfm89.com', 'https://www.dawn.com/advertise', 'https://educationexpo.dawn.com', 'https://www.dawn.com/events/supplements', 'http://classifieds.dawn.com/', 'https://obituary.dawn.com', 'https://www.dawn.com/', 'https://epaper.dawn.com', '//www.dawn.com', '/latest-news', 'https://www.dawn.com/trends/gaza-invasion', '/pakistan', '/opinion', '/business', '/world', '/entertainment', '/prism', '/sport', '/magazines', '/tech', '/videos', '/popular', '/newspaper', 'https://www.dawnrelief.com/', '//www.dawn.com', '/latest-news', 'https://www.dawn.com/trends/gaza-invasion', '/pakistan', '/opinion', '/business', '/world', '/entertainment', '/prism', '/sport', '/magazines', '/tech', '/videos', '/popular', '/newspaper', 'https://www.dawnrelief.com/', '/live/elections-2024#1822566', '/live/elections-2024#1822564', '/live/elections-2024#1822561', 'https://www.dawn.com/live/gaza-invasion', 'https://www.dawn.com/live/gaza-invasion', 'https://www.dawn.com/news/1832948/uae-hits-out-at-netanyahu-for-saying-it-may-help-run-gaza', 'https://www.dawn.com/news/1833008/adoption-of-palestine-resolution-to-put-pressure-on-us-munir-akram', 'https://www.dawn.com/news/1833001/washington-says-use-of-its-weapons-by-tel-aviv-in-gaza-violated-law', 'https://www.dawn.com/news/1833056/situation-in-ajk-calms-down-after-2-days-of-violent-clashes', 'https://www.dawn.com/news/1833056/situation-in-ajk-calms-down-after-2-days-of-violent-clashes', 'https://www.dawn.com/news/1833061/heros-welcome-for-hockey-team-in-lahore-after-winning-silver-medal-in-azlan-shah-cup', 'https://www.dawn.com/news/1833061/heros-welcome-for-hockey-team-in-lahore-after-winning-silver-medal-in-azlan-shah-cup', 'https://www.dawn.com/news/1833071/after-months-of-speculation-miftah-ismail-confirms-hes-forming-new-political-party', 'https://www.dawn.com/news/1833071/after-months-of-speculation-miftah-ismail-confirms-hes-forming-new-political-party', 'https://www.dawn.com/news/1833053/imf-mission-to-meet-pakistani-authorities-next-week-to-discuss-next-phase-of-engagement-official', 'https://www.dawn.com/news/1833053/imf-mission-to-meet-pakistani-authorities-next-week-to-discuss-next-phase-of-engagement-official', 'https://www.dawn.com/news/1833050/no-such-thing-as-strategic-state-owned-enterprises-says-finance-minister-aurangzeb', 'https://www.dawn.com/news/1833050/no-such-thing-as-strategic-state-owned-enterprises-says-finance-minister-aurangzeb', 'https://www.dawn.com/news/1833052/fight-till-the-last-ball-pcb-chief-tells-cricket-team-in-dublin', 'https://www.dawn.com/news/1833052/fight-till-the-last-ball-pcb-chief-tells-cricket-team-in-dublin', 'https://www.dawn.com/news/1833042/canada-arrests-fourth-indian-national-in-killing-of-sikh-activist', 'https://www.dawn.com/news/1833042/canada-arrests-fourth-indian-national-in-killing-of-sikh-activist', 'https://www.dawn.com/news/1833046/second-night-of-auroras-seen-amid-extreme-solar-storm', 'https://www.dawn.com/news/1833046/second-night-of-auroras-seen-amid-extreme-solar-storm', 'https://www.dawn.com/news/1833000/adb-links-support-with-imfs-clean-chit', 'https://www.dawn.com/news/1833000/adb-links-support-with-imfs-clean-chit', '/latest-news', 'https://www.youtube.com/c/DawnNewsEnglish', 'https://www.youtube.com/watch?v=UeSr8kxz7kE', 'https://www.youtube.com/watch?v=UeSr8kxz7kE', 'https://www.youtube.com/watch?v=DLnFKstpqSM', 'https://www.youtube.com/watch?v=DLnFKstpqSM', 'https://www.youtube.com/watch?v=ax6GtKBV4o4', 'https://www.youtube.com/watch?v=ax6GtKBV4o4', 'https://www.youtube.com/watch?v=6Y6pv4dgwok', 'https://www.youtube.com/watch?v=6Y6pv4dgwok', 'https://www.youtube.com/watch?v=368pk1LtbvY', 'https://www.youtube.com/watch?v=368pk1LtbvY', 'https://www.youtube.com/watch?v=ZKNxVl6yFyc', 'https://www.youtube.com/watch?v=ZKNxVl6yFyc', 'https://www.youtube.com/watch?v=1j9DKEupIUY', 'https://www.youtube.com/watch?v=1j9DKEupIUY', 'https://www.youtube.com/watch?v=2FbxyFxRHdM', 'https://www.youtube.com/watch?v=2FbxyFxRHdM', '/must-read', 'https://www.dawn.com/news/1332592', 'https://www.dawn.com/news/1332592', 'https://www.dawn.com/news/1555087/mothers-day-reflections-of-a-mother', 'https://www.dawn.com/news/1555087/mothers-day-reflections-of-a-mother', 'https://www.dawn.com/news/1832981', 'https://www.dawn.com/news/1832981', 'https://www.dawn.com/news/1833021', 'https://www.dawn.com/news/1833021', 'https://www.dawn.com/news/1832983/who-can-rock-the-hybrid-boat', 'https://www.dawn.com/news/1832983/who-can-rock-the-hybrid-boat', 'https://aurora.dawn.com/news/1145113', 'https://aurora.dawn.com/news/1145113', 'https://www.dawn.com/news/1832997/looming-pension-crisis-cries-out-for-corrective-measures', 'https://www.dawn.com/news/1832997/looming-pension-crisis-cries-out-for-corrective-measures', 'https://www.dawn.com/news/1833014', 'https://www.dawn.com/news/1833014', 'https://www.dawn.com/news/1832987', 'https://www.dawn.com/news/1832987', 'https://www.dawn.com/news/1832965/love-knows-no-boundaries-at-karachis-edhi-home-nursery-for-special-children', 'https://www.dawn.com/news/1832965/love-knows-no-boundaries-at-karachis-edhi-home-nursery-for-special-children', 'https://www.dawn.com/news/1832958/documentary-on-dr-aafia-siddiqui-launched-in-karachi', 'https://www.dawn.com/news/1832958/documentary-on-dr-aafia-siddiqui-launched-in-karachi', 'https://www.dawn.com/sponsor-content', 'https://www.dawn.com/news/1833048/to-draw-or-not-to-draw', 'https://www.dawn.com/news/1833048/to-draw-or-not-to-draw', 'https://www.dawn.com/news/1831567', 'https://www.dawn.com/news/1831567', 'https://www.dawn.com/authors/9835/nadir-guramani', 'https://www.dawn.com/authors/2617/jamil-nagri', 'https://www.dawn.com/authors/934/tariq-naqash', 'https://www.dawn.com/authors/1521/zahoor', 'https://www.dawn.com/authors/262/iftikhar-a-khan', 'https://www.dawn.com/news/1832658/pakistans-icube-qamar-beams-back-first-images-from-moons-orbit', '/pakistan', 'https://www.dawn.com/news/1832658/pakistans-icube-qamar-beams-back-first-images-from-moons-orbit', 'https://www.dawn.com/news/1832750/ruling-coalition-loses-27-reserved-seats-in-punjab', '/pakistan', 'https://www.dawn.com/news/1832750/ruling-coalition-loses-27-reserved-seats-in-punjab', 'https://www.dawn.com/news/1832796/pia-staff-forgets-to-put-boys-body-on-plane', '/pakistan', 'https://www.dawn.com/news/1832796/pia-staff-forgets-to-put-boys-body-on-plane', 'https://www.dawn.com/news/1832699/downside-risks-for-pakistan-remain-exceptionally-high-imf', '/business', 'https://www.dawn.com/news/1832699/downside-risks-for-pakistan-remain-exceptionally-high-imf', 'https://www.dawn.com/news/1832670/pakistan-remain-unbeaten-in-azlan-shah-cup-as-match-with-new-zealand-ends-in-tie', '/sport', 'https://www.dawn.com/news/1832670/pakistan-remain-unbeaten-in-azlan-shah-cup-as-match-with-new-zealand-ends-in-tie', '/opinion', 'https://www.dawn.com/news/1832983/who-can-rock-the-hybrid-boat', 'https://www.dawn.com/news/1832983/who-can-rock-the-hybrid-boat', 'https://www.dawn.com/authors/112/abbas-nasir', 'https://www.dawn.com/news/1832982/insurgency-and-social-change', 'https://www.dawn.com/news/1832982/insurgency-and-social-change', 'https://www.dawn.com/authors/363/muhammad-amir-rana', 'https://www.dawn.com/news/1832981/indian-elections', 'https://www.dawn.com/news/1832981/indian-elections', 'https://www.dawn.com/authors/9600/aizaz-ahmad-chaudhry', 'https://www.dawn.com/news/1832979/overflowing-cups', 'https://www.dawn.com/news/1832979/overflowing-cups', 'https://www.dawn.com/authors/1320/muna-khan', 'https://www.dawn.com/news/1832832/the-lethal-troika', 'https://www.dawn.com/news/1832832/the-lethal-troika', 'https://www.dawn.com/authors/3134/tariq-parvez', '/newspaper/editorial', 'https://www.dawn.com/news/1832987/a-turbulent-2023', 'https://www.dawn.com/news/1832986/a-moral-victory', 'https://www.dawn.com/news/1832984/hope-after-defeat', 'https://www.dawn.com/news/1832985/cartoon-12-may-2024', 'https://www.dawn.com/authors/3134/tariq-parvez', 'https://www.dawn.com/news/1832832/the-lethal-troika', 'https://www.dawn.com/authors/675/khurram-husain', 'https://www.dawn.com/news/1832368/the-net-metering-dead-end', 'https://www.dawn.com/authors/815/reema-omer', 'https://www.dawn.com/news/1832831/an-inclusive-judiciary', 'https://www.dawn.com/authors/5582/sahar-bandial', 'https://www.dawn.com/news/1832829/child-marriages', 'https://www.dawn.com/authors/568/faisal-bari', 'https://www.dawn.com/news/1832621/education-emergency', 'https://www.dawn.com/authors/2112/mohammad-ali-babakhel', 'https://www.dawn.com/news/1832830/street-safety', '/business', 'https://www.dawn.com/news/1833053/imf-mission-to-meet-pakistani-authorities-next-week-to-discuss-next-phase-of-engagement-official', 'https://www.dawn.com/news/1833053/imf-mission-to-meet-pakistani-authorities-next-week-to-discuss-next-phase-of-engagement-official', 'https://www.dawn.com/news/1833050/no-such-thing-as-strategic-state-owned-enterprises-says-finance-minister-aurangzeb', 'https://www.dawn.com/news/1833050/no-such-thing-as-strategic-state-owned-enterprises-says-finance-minister-aurangzeb', 'https://www.dawn.com/news/1833000/adb-links-support-with-imfs-clean-chit', 'https://www.dawn.com/news/1833000/adb-links-support-with-imfs-clean-chit', 'https://www.dawn.com/news/1832993/areas-of-cooperation-with-saudi-arabia-identified-pm-shehbaz', 'https://www.dawn.com/news/1832993/areas-of-cooperation-with-saudi-arabia-identified-pm-shehbaz', 'https://www.dawn.com/news/1832994', 'https://www.dawn.com/news/1832994', 'https://www.dawn.com/news/1832999/exports-to-europe-fall-despite-gsp', 'https://www.dawn.com/news/1832999/exports-to-europe-fall-despite-gsp', '/sport', 'https://www.dawn.com/news/1833061/heros-welcome-for-hockey-team-in-lahore-after-winning-silver-medal-in-azlan-shah-cup', 'https://www.dawn.com/news/1833061/heros-welcome-for-hockey-team-in-lahore-after-winning-silver-medal-in-azlan-shah-cup', 'https://www.dawn.com/news/1833052/fight-till-the-last-ball-pcb-chief-tells-cricket-team-in-dublin', 'https://www.dawn.com/news/1833052/fight-till-the-last-ball-pcb-chief-tells-cricket-team-in-dublin', 'https://www.dawn.com/news/1833021', 'https://www.dawn.com/news/1833021', 'https://www.dawn.com/news/1832946/bednarek-storms-to-200m-triumph-in-doha-neeraj-chopra-falls-short', 'https://www.dawn.com/news/1832946/bednarek-storms-to-200m-triumph-in-doha-neeraj-chopra-falls-short', 'https://www.dawn.com/news/1832928/real-madrid-eagerly-awaits-mbappe-after-psg-exit-confirmed', 'https://www.dawn.com/news/1832928/real-madrid-eagerly-awaits-mbappe-after-psg-exit-confirmed', 'https://www.dawn.com/news/1832945/djokovic-bottle-strike-overshadows-rome-open-cruise-past-moutet', 'https://www.dawn.com/news/1832945/djokovic-bottle-strike-overshadows-rome-open-cruise-past-moutet', '/world', 'https://www.dawn.com/news/1833046/second-night-of-auroras-seen-amid-extreme-solar-storm', 'https://www.dawn.com/news/1833046/second-night-of-auroras-seen-amid-extreme-solar-storm', 'https://www.dawn.com/news/1833042/canada-arrests-fourth-indian-national-in-killing-of-sikh-activist', 'https://www.dawn.com/news/1833042/canada-arrests-fourth-indian-national-in-killing-of-sikh-activist', 'https://www.dawn.com/news/1832947/israel-orders-palestinians-to-evacuate-from-more-areas-of-rafah', 'https://www.dawn.com/news/1832947/israel-orders-palestinians-to-evacuate-from-more-areas-of-rafah', 'https://www.dawn.com/news/1832948/uae-hits-out-at-netanyahu-for-saying-it-may-help-run-gaza', 'https://www.dawn.com/news/1832948/uae-hits-out-at-netanyahu-for-saying-it-may-help-run-gaza', 'https://www.dawn.com/news/1833001/washington-says-use-of-its-weapons-by-tel-aviv-in-gaza-violated-law', 'https://www.dawn.com/news/1833001/washington-says-use-of-its-weapons-by-tel-aviv-in-gaza-violated-law', 'https://www.dawn.com/news/1833009/delhi-cm-kejriwal-exhorts-indians-to-resist-dictatorship', 'https://www.dawn.com/news/1833009/delhi-cm-kejriwal-exhorts-indians-to-resist-dictatorship', 'https://images.dawn.com', 'https://images.dawn.com/news/1192429/men-must-take-the-lead-in-standing-up-against-sexual-harassment-says-hamza-ali-abbasi', 'https://images.dawn.com/news/1192429/men-must-take-the-lead-in-standing-up-against-sexual-harassment-says-hamza-ali-abbasi', 'https://www.dawn.com/authors/5777/images-staff', 'https://images.dawn.com/news/1192428/we-asked-moms-what-they-really-want-for-mothers-day-and-no-it-isnt-a-kurta-or-a-candle', 'https://images.dawn.com/news/1192428/we-asked-moms-what-they-really-want-for-mothers-day-and-no-it-isnt-a-kurta-or-a-candle', 'https://www.dawn.com/authors/10857/mashael-shah', 'https://images.dawn.com/news/1192427/going-loco-for-local-jugnus-chief-saab-candle-is-the-ultimate-karachi-kid-nostalgia', 'https://images.dawn.com/news/1192427/going-loco-for-local-jugnus-chief-saab-candle-is-the-ultimate-karachi-kid-nostalgia', 'https://www.dawn.com/authors/9236/siham-basir', '/prism', 'https://www.dawn.com/news/1823323/fistula-and-child-marriages-the-two-epidemics-plaguing-women-in-gilgit-baltistan', 'https://www.dawn.com/news/1823323/fistula-and-child-marriages-the-two-epidemics-plaguing-women-in-gilgit-baltistan', 'https://www.dawn.com/authors/10965/shereen-karim', 'https://www.dawn.com/news/1828987/2024-elections-whats-at-stake-for-indias-minorities', 'https://www.dawn.com/news/1828987/2024-elections-whats-at-stake-for-indias-minorities', 'https://www.dawn.com/authors/11014/sajjad-hassan', 'https://www.dawn.com/news/1829562/from-screens-to-streets-how-gen-z-is-disrupting-the-status-quo-and-redefining-activism', 'https://www.dawn.com/news/1829562/from-screens-to-streets-how-gen-z-is-disrupting-the-status-quo-and-redefining-activism', 'https://www.dawn.com/authors/5119/uzair-m-younus', '/tech', 'https://www.dawn.com/news/1833005/art-group-employs-brainwaves-ai-to-recreate-landscapes', 'https://www.dawn.com/news/1833005/art-group-employs-brainwaves-ai-to-recreate-landscapes', 'https://www.dawn.com/authors/119/afp', 'https://www.dawn.com/news/1832658/pakistans-icube-qamar-beams-back-first-images-from-moons-orbit', 'https://www.dawn.com/news/1832658/pakistans-icube-qamar-beams-back-first-images-from-moons-orbit', 'https://www.dawn.com/authors/9835/nadir-guramani', 'https://www.dawn.com/news/1831980/people-with-two-copies-of-a-risk-gene-have-genetic-form-of-alzheimers-say-scientists', 'https://www.dawn.com/news/1831980/people-with-two-copies-of-a-risk-gene-have-genetic-form-of-alzheimers-say-scientists', 'https://www.dawn.com/authors/422/reuters', '/magazines/eos', 'https://www.dawn.com/news/1833021/fifas-foul-on-pakistan-football', 'https://www.dawn.com/news/1833021/fifas-foul-on-pakistan-football', 'https://www.dawn.com/authors/943/umaid-wasim', 'https://www.dawn.com/news/1833020/essay-were-ready-for-your-close-up-now', 'https://www.dawn.com/news/1833020/essay-were-ready-for-your-close-up-now', 'https://www.dawn.com/authors/9288/neha-maqsood', 'https://www.dawn.com/news/1833019/football-girls-kicking-mountains', 'https://www.dawn.com/news/1833019/football-girls-kicking-mountains', 'https://www.dawn.com/authors/9361/somaiyah-hafeez', '/magazines/icon', 'https://www.dawn.com/news/1832575/style-all-about-my-mother', 'https://www.dawn.com/news/1832575/style-all-about-my-mother', 'https://www.dawn.com/authors/1245/maliha-rehman', 'https://www.dawn.com/news/1832572/soundscape-and-now-ai-music', 'https://www.dawn.com/news/1832572/soundscape-and-now-ai-music', 'https://www.dawn.com/authors/11037/oliver-bown', 'https://www.dawn.com/news/1832574/the-grapevine', 'https://www.dawn.com/news/1832574/the-grapevine', 'https://www.dawn.com/authors/1734/pyt', '/newspaper/business-finance', 'https://www.dawn.com/news/1831798/packaging-film-sector-on-the-rise', 'https://www.dawn.com/news/1831798/packaging-film-sector-on-the-rise', 'https://www.dawn.com/news/1831797/tax-reforms-easier-than-expected', 'https://www.dawn.com/news/1831796/wheats-tricky-procurement', '/magazines/young-world', 'https://www.dawn.com/news/1832758/echoes-of-love', 'https://www.dawn.com/news/1832758/echoes-of-love', 'https://www.dawn.com/news/1832757/mailbox', 'https://www.dawn.com/news/1832756/mothers-day-a-letter-to-my-mum', 'https://aurora.dawn.com', 'https://aurora.dawn.com/news/1145113', 'https://aurora.dawn.com/news/1145113', 'https://aurora.dawn.com/news/1145109/the-agrarian-thespian', 'https://aurora.dawn.com/news/1145073/incentivising-agri-financing', 'https://www.chinadaily.com.cn/a/202405/12/WS66400d88a31082fc043c69eb.html', 'https://www.chinadaily.com.cn/a/202405/11/WS663f2b3ba31082fc043c6995.html', 'https://www.chinadaily.com.cn/a/202405/11/WS663f1a07a31082fc043c696d.html', 'https://asianews.network/', 'https://www.chinadaily.com.cn/a/202405/12/WS66400d88a31082fc043c69eb.html', 'https://www.chinadaily.com.cn/a/202405/11/WS663f2b3ba31082fc043c6995.html', 'https://www.chinadaily.com.cn/a/202405/11/WS663f1a07a31082fc043c696d.html', 'https://asianews.network/', 'https://www.dawn.com/', 'https://www.compunode.com/', 'https://www.dawn.com', 'https://whatsapp.com/channel/0029VaMc238IiRov8okfYy3n', 'https://twitter.com/dawn_com', 'https://www.facebook.com/dawndotcom', 'https://www.instagram.com/dawn.today/', 'https://itunes.apple.com/pk/app/dawn-official-mobile-app/id935631940', 'https://play.google.com/store/apps/details?id=com.mictronicx.dawn', 'https://appgallery.huawei.com/#/app/C104007373', '/contact', '/terms', '/reproduction-copyrights', '/contribution-guidelines', '/privacy', '/comments-policy', '/code-of-ethics', '/subscription', '/marketing', '/sponsor-content', 'https://classifieds.dawn.com', 'https://obituary.dawn.com', '/prayers-timings', '/stocks', '/weather', '/', 'https://herald.dawn.com', 'https://aurora.dawn.com', '/prism', 'https://www.dawnnews.tv/', 'https://images.dawn.com', '/magazines', 'https://cityfm89.com', 'https://www.youtube.com/channel/UCkMdI0K-74jAjOmh5J5H97Q']\n",
      "Dawn Titles: []\n",
      "Dawn Descriptions: []\n"
     ]
    }
   ],
   "source": [
    "dawn_links, dawn_titles, dawn_descriptions = extract_data(dawn_url)\n",
    "print(\"Dawn Links:\", dawn_links)\n",
    "print(\"Dawn Titles:\", dawn_titles)\n",
    "print(\"Dawn Descriptions:\", dawn_descriptions)"
   ]
  },
  {
   "cell_type": "code",
   "execution_count": 25,
   "metadata": {},
   "outputs": [
    {
     "name": "stdout",
     "output_type": "stream",
     "text": [
      "BBC Links: ['/', '/', '/news', '/sport', '/business', '/innovation', '/culture', '/travel', '/future-planet', '/video', '/live', '/home', '/news', '/news/topics/c2vdnvdg6xxt', '/news/war-in-ukraine', '/news/topics/ce483qevngqt', '/news/us-canada', '/news/uk', '/news/politics', '/news/england', '/news/northern_ireland', '/news/northern_ireland/northern_ireland_politics', '/news/scotland', '/news/scotland/scotland_politics', '/news/wales', '/news/wales/wales_politics', '/news/world/africa', '/news/world/asia', '/news/world/asia/china', '/news/world/asia/india', '/news/world/australia', '/news/world/europe', '/news/world/latin_america', '/news/world/middle_east', '/news/in_pictures', '/news/reality_check', '/sport', '/business', '/business/future-of-business', '/business/technology-of-business', '/business/c-suite', '/innovation', '/innovation/technology', '/innovation/science', '/innovation/artificial-intelligence', '/culture', '/culture/film-tv', '/culture/music', '/culture/art', '/culture/style', '/culture/books', '/culture/entertainment-news', '/travel', '/travel/destinations', '/travel/destinations/africa', '/travel/destinations/antarctica', '/travel/destinations/asia', '/travel/destinations/australia-and-pacific', '/travel/destinations/caribbean', '/travel/destinations/central-america', '/travel/destinations/europe', '/travel/destinations/middle-east', '/travel/destinations/north-america', '/travel/destinations/south-america', '/travel/worlds-table', '/travel/cultural-experiences', '/travel/adventures', '/travel/specialist', '/future-planet', '/future-planet/natural-wonders', '/future-planet/weather-science', '/future-planet/solutions', '/future-planet/sustainable-business', '/future-planet/green-living', '/video', '/live', '/live/news', '/live/sport', '/', '/sport', '/video', 'https://www.bbc.co.uk/sounds?src_origin=BBCS_BBC', 'https://www.bbc.com/weather', '/news/world-europe-68998913', '/news/uk-politics-68999212', '/news/world-europe-68998913', '/news/uk-politics-68999212', '/news/articles/c72p0xx410xo', '/news/world-us-canada-68996066', '/news/world-us-canada-68991796', '/news/entertainment-arts-17127556', '/news/world-us-canada-68993672', '/future/article/20240510-change-6-is-just-the-tip-of-chinas-space-ambitions', '/news/articles/cv2dy69jm6no', '/news/articles/cyxepvdewkno', '/news/articles/crgy7xypwj8o', '/news/world-africa-68999815', '/news/world-asia-india-68767574', '/news/world-asia-china-68982645', '/news/articles/crgy7xypwj8o', '/news/articles/c4n1l9g2wn9o', '/news/world-asia-india-68968593', '/news/articles/cg67w73nxqxo', '/news/world-africa-68999815', '/news/uk-68994265', '/news/world-europe-68994908', '/reel/video/p0hwrqms/a-visit-to-one-of-antarctica-s-stunning-penguin-colonies', '/news/world-us-canada-68994032', '/news/world-us-canada-68987628', '/news/videos/cnl4nrl5qlro', '/news/business-68977522', '/news/in-pictures-68995685', '/news/uk-politics-68999212', '/news/uk-68998809', '/news/world-middle-east-68998654', '/news/articles/cer3mr09vzxo', '/news/world-europe-68998913', '/news/articles/c72p0xx410xo', '/news/world-europe-68998812', '/news/world-europe-68994877', '/news/articles/c4n1l9g2wn9o', '/news/world-us-canada-68991796', '/news/world-us-canada-68996066', '/news/world-us-canada-68996062', '/news/articles/cyxepvdewkno', '/news/articles/crgy7xypwj8o', '/news/articles/c4n1wze72kdo', '/news/world-asia-68994876', '/news/science-environment-68991593', '/news/world-australia-68871869', '/news/world-australia-68989354', '/sport/cricket/articles/cne93vemvreo', '/news/articles/cjq5gky4e5no', '/news/uk-politics-68999212', '/news/articles/cll451q4l55o', '/news/uk-68998810', '/news/uk-68998809', '/news/uk-politics-68999212', '/news/world-middle-east-68998654', '/news/articles/c51n40vp800o', '/news/articles/cer3mr09vzxo', '/news/articles/cprg0yn8q81o', '/news/articles/c4n1jwel080o', '/news/articles/c51n5lppw8vo', '/news/articles/cd1353v5p5xo', 'https://www.bbc.com/sport/football/live/cn0rndpvx20t?src_origin=BBCS_BBC', '/news/business-68977522', '/news/articles/cv2j0v237vko', '/news/business-68983741', '/news/articles/cmm3gzz1dj3o', '/news/articles/cv2j18le9e3o', '/future/article/20240510-how-sci-fi-writer-jg-ballards-computer-poems-predicted-chatgpt', '/news/technology-68994263', '/news/technology-68972855', '/news/entertainment-arts-17127556', '/news/articles/c03drw23zewo', '/news/articles/cv2dy69jm6no', 'https://www.bbc.com/news/live/entertainment-arts-68979346?src_origin=BBCS_BBC', '/sport/cricket/articles/cq5nvz95gl3o', '/sport/videos/cjq58nlk82yo', '/sport/rugby-league/articles/ck5kwlpd5dno', '/sport/articles/cq5nvd2xez9o', 'https://cloud.email.bbc.com/SignUp10_08?&at_bbc_team=studios&at_medium=display&at_objective=acquisition&at_ptr_type=&at_ptr_name=bbc.comhp&at_format=Module&at_link_origin=homepage&at_campaign=essentiallist&at_campaign_type=owned', 'https://cloud.email.bbc.com/US_Election_Unspun_newsletter_signup?&at_bbc_team=studios&at_medium=display&at_objective=acquisition&at_ptr_type=&at_ptr_name=bbc.comhp&at_format=Module&at_link_origin=homepage&at_campaign=uselectionunspun&at_campaign_type=owned', 'https://cloud.email.bbc.com/InHistory_newsletter_signup?&at_bbc_team=studios&at_medium=display&at_objective=acquisition&at_ptr_type=&at_ptr_name=bbc.comhp&at_format=Module&at_link_origin=homepage&at_campaign=inhistory&at_campaign_type=owned', '/news/in-pictures-68995685', '/news/articles/c4n1wze72kdo', '/news/articles/c4n104z0xklo', '/news/world-latin-america-68979430', '/news/articles/c1ej1kk0d88o', '/news/uk-68994265', '/news/health-68992772', '/news/science-environment-68991593', '/travel/article/20240504-guacachile-a-time-honoured-guacamole-lookalike', '/travel/article/20240426-from-ancient-egypt-to-roman-britain-brewers-are-reviving-beers-from-the-past', '/travel/article/20240421-matzah-ball-soup-a-new-take-on-a-jewish-classic', '/travel/article/20240418-the-ingenious-wines-birthed-from-black-volcanic-craters', '/travel/article/20240510-an-insiders-guide-to-san-franciscos-mission-district', '/travel/article/20240510-siquijor-a-paradise-island-with-a-reputation-for-witchcraft', '/travel/article/20240508-a-solution-for-working-parents-who-want-to-travel', '/travel/article/20240508-celebrity-chef-alexandre-mazzias-favourite-ways-to-enjoy-marseille-during-the-olympics-and-beyond', '/', 'https://www.bbc.com/', '/news', '/sport', '/business', '/innovation', '/culture', '/travel', '/future-planet', '/video', '/live', 'https://www.bbc.co.uk/sounds?src_origin=BBCS_BBC', 'https://www.bbc.com/weather', 'https://shop.bbc.com/', 'https://www.bbc.co.uk/usingthebbc/terms', 'https://www.bbc.co.uk/aboutthebbc', 'https://www.bbc.com/usingthebbc/privacy/', 'https://www.bbc.com/usingthebbc/cookies/', 'https://www.bbc.co.uk/accessibility/', 'https://www.bbc.co.uk/contact', 'https://www.bbc.com/advertisingcontact', 'https://www.bbc.com/usingthebbc/cookies/how-can-i-change-my-bbc-cookie-settings/', 'https://www.bbc.com/contact-bbc-com-help', 'https://www.bbc.co.uk/editorialguidelines/guidance/feeds-and-links']\n",
      "BBC Titles: ['Russia blames Ukraine after blast destroys apartments']\n",
      "BBC Descriptions: ['At least two people are said to have been killed after a section of a 10-storey block collapsed in Belgorod.']\n"
     ]
    }
   ],
   "source": [
    "bbc_links, bbc_titles, bbc_descriptions = extract_data(bbc_url)\n",
    "print(\"BBC Links:\", bbc_links)\n",
    "print(\"BBC Titles:\", bbc_titles)\n",
    "print(\"BBC Descriptions:\", bbc_descriptions)\n",
    "\n"
   ]
  },
  {
   "cell_type": "markdown",
   "metadata": {},
   "source": []
  },
  {
   "cell_type": "code",
   "execution_count": 35,
   "metadata": {},
   "outputs": [
    {
     "name": "stdout",
     "output_type": "stream",
     "text": [
      "Cleaned Dawn Titles: []\n",
      "Cleaned Dawn Descriptions: []\n",
      "Cleaned BBC Titles: ['russia blame ukraine blast destroys apartment']\n",
      "Cleaned BBC Descriptions: ['least two people said killed section storey block collapsed belgorod']\n"
     ]
    }
   ],
   "source": [
    "#Task 2\n",
    "\n",
    "import nltk\n",
    "import re\n",
    "from nltk.corpus import stopwords\n",
    "from nltk.tokenize import word_tokenize\n",
    "from nltk.stem import WordNetLemmatizer\n",
    "\n",
    "# Set NLTK data path\n",
    "nltk.data.path.append(\"/path/to/nltk_data\") \n",
    "\n",
    "# Function to clean and preprocess text\n",
    "def clean_text(text):\n",
    "    # Remove HTML tags\n",
    "    clean_text = re.sub(r'<.*?>', '', text)\n",
    "    \n",
    "    # Remove special characters and numbers\n",
    "    clean_text = re.sub(r'[^a-zA-Z]', ' ', clean_text)\n",
    "    \n",
    "    # Convert text to lowercase\n",
    "    clean_text = clean_text.lower()\n",
    "    \n",
    "    # Tokenize text\n",
    "    tokens = word_tokenize(clean_text)\n",
    "    \n",
    "    # Remove stopwords\n",
    "    stop_words = set(stopwords.words('english'))\n",
    "    filtered_tokens = [word for word in tokens if word not in stop_words]\n",
    "    \n",
    "    # Lemmatize words\n",
    "    lemmatizer = WordNetLemmatizer()\n",
    "    lemmatized_tokens = [lemmatizer.lemmatize(word) for word in filtered_tokens]\n",
    "    \n",
    "    # Join tokens back into text\n",
    "    clean_text = ' '.join(lemmatized_tokens)\n",
    "    \n",
    "    return clean_text\n",
    "\n",
    "# Clean and preprocess the extracted titles and descriptions\n",
    "clean_dawn_titles = [clean_text(title) for title in dawn_titles]\n",
    "clean_dawn_descriptions = [clean_text(description) for description in dawn_descriptions]\n",
    "\n",
    "clean_bbc_titles = [clean_text(title) for title in bbc_titles]\n",
    "clean_bbc_descriptions = [clean_text(description) for description in bbc_descriptions]\n",
    "\n",
    "# Print cleaned data\n",
    "print(\"Cleaned Dawn Titles:\", clean_dawn_titles)\n",
    "print(\"Cleaned Dawn Descriptions:\", clean_dawn_descriptions)\n",
    "\n",
    "print(\"Cleaned BBC Titles:\", clean_bbc_titles)\n",
    "print(\"Cleaned BBC Descriptions:\", clean_bbc_descriptions)\n",
    "\n"
   ]
  },
  {
   "cell_type": "code",
   "execution_count": 36,
   "metadata": {},
   "outputs": [],
   "source": [
    "import csv\n",
    "\n",
    "# Write data to CSV file\n",
    "with open('data.csv', 'w', newline='', encoding='utf-8') as csvfile:\n",
    "    writer = csv.writer(csvfile)\n",
    "    writer.writerow(['Title', 'Description'])\n",
    "    for title, description in zip(clean_dawn_titles, clean_dawn_descriptions):\n",
    "        writer.writerow([title, description])\n",
    "    for title, description in zip(clean_bbc_titles, clean_bbc_descriptions):\n",
    "        writer.writerow([title, description])\n"
   ]
  }
 ],
 "metadata": {
  "kernelspec": {
   "display_name": "Python 3",
   "language": "python",
   "name": "python3"
  },
  "language_info": {
   "codemirror_mode": {
    "name": "ipython",
    "version": 3
   },
   "file_extension": ".py",
   "mimetype": "text/x-python",
   "name": "python",
   "nbconvert_exporter": "python",
   "pygments_lexer": "ipython3",
   "version": "3.11.1"
  }
 },
 "nbformat": 4,
 "nbformat_minor": 2
}
